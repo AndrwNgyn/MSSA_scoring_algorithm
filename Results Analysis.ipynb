{
 "cells": [
  {
   "cell_type": "markdown",
   "id": "d9e7938b-c6fd-45fb-b2a8-e134e184e75c",
   "metadata": {},
   "source": [
    "# Comparison Analysis"
   ]
  },
  {
   "cell_type": "markdown",
   "id": "a1ae728c-6c5c-4b77-802d-7f7e72493519",
   "metadata": {},
   "source": [
    "Comparing my algorithm's results vs HCAI's algorithm"
   ]
  },
  {
   "cell_type": "code",
   "execution_count": 22,
   "id": "6d41436b-7e77-4fa7-8774-95cf2ac5849e",
   "metadata": {},
   "outputs": [],
   "source": [
    "import urllib.request\n",
    "import json\n",
    "import pandas as pd\n",
    "import matplotlib.pyplot as plt\n",
    "import seaborn as sns\n",
    "import numpy as np"
   ]
  },
  {
   "cell_type": "markdown",
   "id": "a544d7b7-b0d7-4a04-89d7-61627fd75e3a",
   "metadata": {},
   "source": [
    "## Load in Data Sets"
   ]
  },
  {
   "cell_type": "markdown",
   "id": "022070b7-5bc7-4095-a6a8-ef8d9aef87dc",
   "metadata": {},
   "source": [
    "### My Algorithm"
   ]
  },
  {
   "cell_type": "code",
   "execution_count": 12,
   "id": "a8d6d2b2-b739-44f3-8e0e-b8ee62446813",
   "metadata": {},
   "outputs": [
    {
     "name": "stdout",
     "output_type": "stream",
     "text": [
      "<class 'pandas.core.frame.DataFrame'>\n",
      "RangeIndex: 542 entries, 0 to 541\n",
      "Data columns (total 7 columns):\n",
      " #   Column                    Non-Null Count  Dtype  \n",
      "---  ------                    --------------  -----  \n",
      " 0   MSSA_ID                   542 non-null    object \n",
      " 1   SCORE                     542 non-null    float64\n",
      " 2   geometry                  542 non-null    object \n",
      " 3   hospital_component        542 non-null    float64\n",
      " 4   provider_ratio_component  542 non-null    float64\n",
      " 5   poverty_component         542 non-null    float64\n",
      " 6   PCSA                      542 non-null    int64  \n",
      "dtypes: float64(4), int64(1), object(2)\n",
      "memory usage: 29.8+ KB\n"
     ]
    },
    {
     "data": {
      "text/html": [
       "<div>\n",
       "<style scoped>\n",
       "    .dataframe tbody tr th:only-of-type {\n",
       "        vertical-align: middle;\n",
       "    }\n",
       "\n",
       "    .dataframe tbody tr th {\n",
       "        vertical-align: top;\n",
       "    }\n",
       "\n",
       "    .dataframe thead th {\n",
       "        text-align: right;\n",
       "    }\n",
       "</style>\n",
       "<table border=\"1\" class=\"dataframe\">\n",
       "  <thead>\n",
       "    <tr style=\"text-align: right;\">\n",
       "      <th></th>\n",
       "      <th>MSSA_ID</th>\n",
       "      <th>SCORE</th>\n",
       "      <th>geometry</th>\n",
       "      <th>hospital_component</th>\n",
       "      <th>provider_ratio_component</th>\n",
       "      <th>poverty_component</th>\n",
       "      <th>PCSA</th>\n",
       "    </tr>\n",
       "  </thead>\n",
       "  <tbody>\n",
       "    <tr>\n",
       "      <th>0</th>\n",
       "      <td>2i</td>\n",
       "      <td>6.250</td>\n",
       "      <td>MULTIPOLYGON (((596891.8568110325 4146959.7770...</td>\n",
       "      <td>5.250000</td>\n",
       "      <td>1.0</td>\n",
       "      <td>0.0</td>\n",
       "      <td>0</td>\n",
       "    </tr>\n",
       "    <tr>\n",
       "      <th>1</th>\n",
       "      <td>78.2h</td>\n",
       "      <td>10.500</td>\n",
       "      <td>POLYGON ((943117.2514636628 3774099.229127737,...</td>\n",
       "      <td>4.500000</td>\n",
       "      <td>1.0</td>\n",
       "      <td>5.0</td>\n",
       "      <td>1</td>\n",
       "    </tr>\n",
       "    <tr>\n",
       "      <th>2</th>\n",
       "      <td>78.2ff</td>\n",
       "      <td>12.000</td>\n",
       "      <td>POLYGON ((940819.2804903607 3779867.139480735,...</td>\n",
       "      <td>3.000000</td>\n",
       "      <td>5.0</td>\n",
       "      <td>4.0</td>\n",
       "      <td>1</td>\n",
       "    </tr>\n",
       "    <tr>\n",
       "      <th>3</th>\n",
       "      <td>78.2ffff</td>\n",
       "      <td>12.143</td>\n",
       "      <td>POLYGON ((937660.1955009792 3775598.751255609,...</td>\n",
       "      <td>2.142857</td>\n",
       "      <td>5.0</td>\n",
       "      <td>5.0</td>\n",
       "      <td>1</td>\n",
       "    </tr>\n",
       "    <tr>\n",
       "      <th>4</th>\n",
       "      <td>78.2mmm</td>\n",
       "      <td>9.500</td>\n",
       "      <td>POLYGON ((939016.7091778314 3769541.718338449,...</td>\n",
       "      <td>4.500000</td>\n",
       "      <td>0.0</td>\n",
       "      <td>5.0</td>\n",
       "      <td>0</td>\n",
       "    </tr>\n",
       "  </tbody>\n",
       "</table>\n",
       "</div>"
      ],
      "text/plain": [
       "    MSSA_ID   SCORE                                           geometry  \\\n",
       "0        2i   6.250  MULTIPOLYGON (((596891.8568110325 4146959.7770...   \n",
       "1     78.2h  10.500  POLYGON ((943117.2514636628 3774099.229127737,...   \n",
       "2    78.2ff  12.000  POLYGON ((940819.2804903607 3779867.139480735,...   \n",
       "3  78.2ffff  12.143  POLYGON ((937660.1955009792 3775598.751255609,...   \n",
       "4   78.2mmm   9.500  POLYGON ((939016.7091778314 3769541.718338449,...   \n",
       "\n",
       "   hospital_component  provider_ratio_component  poverty_component  PCSA  \n",
       "0            5.250000                       1.0                0.0     0  \n",
       "1            4.500000                       1.0                5.0     1  \n",
       "2            3.000000                       5.0                4.0     1  \n",
       "3            2.142857                       5.0                5.0     1  \n",
       "4            4.500000                       0.0                5.0     0  "
      ]
     },
     "execution_count": 12,
     "metadata": {},
     "output_type": "execute_result"
    }
   ],
   "source": [
    "MSSA_scores = pd.read_csv('MSSA_scores.csv')\n",
    "MSSA_scores['PCSA'] = MSSA_scores.SCORE.apply(lambda x: 1 if x > 10.25 else 0)\n",
    "MSSA_scores.info()\n",
    "MSSA_scores.head()"
   ]
  },
  {
   "cell_type": "markdown",
   "id": "3b0adcd4-5fab-4b71-83d9-5339b914783f",
   "metadata": {},
   "source": [
    "### HCAI Algorithm"
   ]
  },
  {
   "cell_type": "code",
   "execution_count": 13,
   "id": "07a6434f-e745-424e-bc59-f83ddf48895a",
   "metadata": {},
   "outputs": [
    {
     "name": "stdout",
     "output_type": "stream",
     "text": [
      "<class 'pandas.core.frame.DataFrame'>\n",
      "RangeIndex: 542 entries, 0 to 541\n",
      "Data columns (total 15 columns):\n",
      " #   Column                Non-Null Count  Dtype  \n",
      "---  ------                --------------  -----  \n",
      " 0   MSSA_COUNTY           542 non-null    object \n",
      " 1   MSSA_ID               542 non-null    object \n",
      " 2   MSSA_NAME             542 non-null    object \n",
      " 3   Total_Population      542 non-null    int64  \n",
      " 4   EST_Physicians        542 non-null    float64\n",
      " 5   EST_FNPPA             542 non-null    float64\n",
      " 6   EST_Providers         542 non-null    float64\n",
      " 7   Provider_Ratio        512 non-null    float64\n",
      " 8   Score_Provider_Ratio  542 non-null    int64  \n",
      " 9   Pop_100FPL            542 non-null    int64  \n",
      " 10  PCT_100FPL            542 non-null    float64\n",
      " 11  Score_Poverty         542 non-null    int64  \n",
      " 12  Score_Total           542 non-null    int64  \n",
      " 13  PCSA                  542 non-null    int64  \n",
      " 14  Effective Date        542 non-null    object \n",
      "dtypes: float64(5), int64(6), object(4)\n",
      "memory usage: 63.6+ KB\n"
     ]
    },
    {
     "data": {
      "text/html": [
       "<div>\n",
       "<style scoped>\n",
       "    .dataframe tbody tr th:only-of-type {\n",
       "        vertical-align: middle;\n",
       "    }\n",
       "\n",
       "    .dataframe tbody tr th {\n",
       "        vertical-align: top;\n",
       "    }\n",
       "\n",
       "    .dataframe thead th {\n",
       "        text-align: right;\n",
       "    }\n",
       "</style>\n",
       "<table border=\"1\" class=\"dataframe\">\n",
       "  <thead>\n",
       "    <tr style=\"text-align: right;\">\n",
       "      <th></th>\n",
       "      <th>MSSA_COUNTY</th>\n",
       "      <th>MSSA_ID</th>\n",
       "      <th>MSSA_NAME</th>\n",
       "      <th>Total_Population</th>\n",
       "      <th>EST_Physicians</th>\n",
       "      <th>EST_FNPPA</th>\n",
       "      <th>EST_Providers</th>\n",
       "      <th>Provider_Ratio</th>\n",
       "      <th>Score_Provider_Ratio</th>\n",
       "      <th>Pop_100FPL</th>\n",
       "      <th>PCT_100FPL</th>\n",
       "      <th>Score_Poverty</th>\n",
       "      <th>Score_Total</th>\n",
       "      <th>PCSA</th>\n",
       "      <th>Effective Date</th>\n",
       "    </tr>\n",
       "  </thead>\n",
       "  <tbody>\n",
       "    <tr>\n",
       "      <th>0</th>\n",
       "      <td>Alameda</td>\n",
       "      <td>1.1</td>\n",
       "      <td>Livermore Central and West/Spring Town</td>\n",
       "      <td>58273</td>\n",
       "      <td>46.0</td>\n",
       "      <td>5.0</td>\n",
       "      <td>49.8</td>\n",
       "      <td>1172.5</td>\n",
       "      <td>1</td>\n",
       "      <td>3149</td>\n",
       "      <td>0.054</td>\n",
       "      <td>1</td>\n",
       "      <td>2</td>\n",
       "      <td>0</td>\n",
       "      <td>2020-01-30T00:00:00</td>\n",
       "    </tr>\n",
       "    <tr>\n",
       "      <th>1</th>\n",
       "      <td>Alameda</td>\n",
       "      <td>1.2</td>\n",
       "      <td>Altamont/Livermore East/Midway/Mountain House/...</td>\n",
       "      <td>39930</td>\n",
       "      <td>13.5</td>\n",
       "      <td>2.7</td>\n",
       "      <td>15.5</td>\n",
       "      <td>2576.1</td>\n",
       "      <td>4</td>\n",
       "      <td>1774</td>\n",
       "      <td>0.044</td>\n",
       "      <td>0</td>\n",
       "      <td>4</td>\n",
       "      <td>0</td>\n",
       "      <td>2020-01-30T00:00:00</td>\n",
       "    </tr>\n",
       "    <tr>\n",
       "      <th>2</th>\n",
       "      <td>Alameda</td>\n",
       "      <td>2a</td>\n",
       "      <td>Berkeley South and West/Emeryville/Oakland Nor...</td>\n",
       "      <td>86595</td>\n",
       "      <td>116.0</td>\n",
       "      <td>78.7</td>\n",
       "      <td>175.0</td>\n",
       "      <td>494.8</td>\n",
       "      <td>0</td>\n",
       "      <td>20908</td>\n",
       "      <td>0.241</td>\n",
       "      <td>4</td>\n",
       "      <td>4</td>\n",
       "      <td>0</td>\n",
       "      <td>2020-01-30T00:00:00</td>\n",
       "    </tr>\n",
       "    <tr>\n",
       "      <th>3</th>\n",
       "      <td>Alameda</td>\n",
       "      <td>2b</td>\n",
       "      <td>Albany/Berkeley East and North/Claremont/Cragm...</td>\n",
       "      <td>110451</td>\n",
       "      <td>273.0</td>\n",
       "      <td>39.4</td>\n",
       "      <td>302.6</td>\n",
       "      <td>365.0</td>\n",
       "      <td>0</td>\n",
       "      <td>8701</td>\n",
       "      <td>0.079</td>\n",
       "      <td>1</td>\n",
       "      <td>1</td>\n",
       "      <td>0</td>\n",
       "      <td>2020-01-30T00:00:00</td>\n",
       "    </tr>\n",
       "    <tr>\n",
       "      <th>4</th>\n",
       "      <td>Alameda</td>\n",
       "      <td>2c</td>\n",
       "      <td>Oakland West Central</td>\n",
       "      <td>88757</td>\n",
       "      <td>361.0</td>\n",
       "      <td>48.1</td>\n",
       "      <td>397.0</td>\n",
       "      <td>223.6</td>\n",
       "      <td>0</td>\n",
       "      <td>22684</td>\n",
       "      <td>0.256</td>\n",
       "      <td>5</td>\n",
       "      <td>5</td>\n",
       "      <td>1</td>\n",
       "      <td>2020-01-30T00:00:00</td>\n",
       "    </tr>\n",
       "  </tbody>\n",
       "</table>\n",
       "</div>"
      ],
      "text/plain": [
       "  MSSA_COUNTY MSSA_ID                                          MSSA_NAME  \\\n",
       "0     Alameda     1.1             Livermore Central and West/Spring Town   \n",
       "1     Alameda     1.2  Altamont/Livermore East/Midway/Mountain House/...   \n",
       "2     Alameda      2a  Berkeley South and West/Emeryville/Oakland Nor...   \n",
       "3     Alameda      2b  Albany/Berkeley East and North/Claremont/Cragm...   \n",
       "4     Alameda      2c                               Oakland West Central   \n",
       "\n",
       "   Total_Population  EST_Physicians  EST_FNPPA  EST_Providers  Provider_Ratio  \\\n",
       "0             58273            46.0        5.0           49.8          1172.5   \n",
       "1             39930            13.5        2.7           15.5          2576.1   \n",
       "2             86595           116.0       78.7          175.0           494.8   \n",
       "3            110451           273.0       39.4          302.6           365.0   \n",
       "4             88757           361.0       48.1          397.0           223.6   \n",
       "\n",
       "   Score_Provider_Ratio  Pop_100FPL  PCT_100FPL  Score_Poverty  Score_Total  \\\n",
       "0                     1        3149       0.054              1            2   \n",
       "1                     4        1774       0.044              0            4   \n",
       "2                     0       20908       0.241              4            4   \n",
       "3                     0        8701       0.079              1            1   \n",
       "4                     0       22684       0.256              5            5   \n",
       "\n",
       "   PCSA       Effective Date  \n",
       "0     0  2020-01-30T00:00:00  \n",
       "1     0  2020-01-30T00:00:00  \n",
       "2     0  2020-01-30T00:00:00  \n",
       "3     0  2020-01-30T00:00:00  \n",
       "4     1  2020-01-30T00:00:00  "
      ]
     },
     "execution_count": 13,
     "metadata": {},
     "output_type": "execute_result"
    }
   ],
   "source": [
    "url = \"https://data.chhs.ca.gov/api/3/action/datastore_search?resource_id=0ba7c904-2302-400a-ba27-b8e8e5c1ab4a&limit=1000\"\n",
    "fileobj = urllib.request.urlopen(url)\n",
    "response_dict = json.loads(fileobj.read())\n",
    "PCSA = pd.DataFrame(response_dict[\"result\"][\"records\"]).drop(columns=\"_id\")\n",
    "PCSA['PCSA'] = PCSA['PCSA'].map({'Yes': 1, 'No': 0})\n",
    "PCSA.info()\n",
    "PCSA.head()"
   ]
  },
  {
   "cell_type": "markdown",
   "id": "99c51ee6-3cba-42c7-b467-ebc1cc7c99d2",
   "metadata": {},
   "source": [
    "## Early Analysis - Counts"
   ]
  },
  {
   "cell_type": "code",
   "execution_count": 14,
   "id": "c3d56912-d5ce-49b0-bc48-2703ac0986f0",
   "metadata": {},
   "outputs": [
    {
     "name": "stdout",
     "output_type": "stream",
     "text": [
      "Personal Algorithm defines 262 MSSAs as shortage areas\n",
      "HCAI Algorithm defines 268 MSSAs as shortage areas\n"
     ]
    }
   ],
   "source": [
    "# My Algorithm\n",
    "num_pcsa_personal = sum(MSSA_scores.PCSA)\n",
    "print(f'Personal Algorithm defines {num_pcsa_personal} MSSAs as shortage areas')\n",
    "\n",
    "num_pcsa_hcai = sum(PCSA.PCSA)\n",
    "print(f'HCAI Algorithm defines {num_pcsa_hcai} MSSAs as shortage areas')"
   ]
  },
  {
   "cell_type": "markdown",
   "id": "02818f7c-83c4-466a-9ce4-983381babb67",
   "metadata": {},
   "source": [
    "#### Division of Scores"
   ]
  },
  {
   "cell_type": "code",
   "execution_count": 30,
   "id": "9e467589-079a-4fd5-98fa-3045f12be0af",
   "metadata": {},
   "outputs": [
    {
     "data": {
      "image/png": "[encoded data removed]",
      "text/plain": [
       "<Figure size 1000x600 with 1 Axes>"
      ]
     },
     "metadata": {},
     "output_type": "display_data"
    }
   ],
   "source": [
    "min_score = MSSA_scores['SCORE'].min()\n",
    "max_score = MSSA_scores['SCORE'].max()\n",
    "bins = np.linspace(min_score, max_score, 31)  # Create 30 bins\n",
    "\n",
    "plt.figure(figsize=(10, 6))\n",
    "sns.set_theme(style=\"whitegrid\", palette=\"pastel\")\n",
    "\n",
    "# Plot histograms for each category with the same bins\n",
    "shortage_area_col = 'PCSA'  # Adjust if necessary\n",
    "if shortage_area_col in MSSA_scores.columns:\n",
    "    sns.histplot(data=MSSA_scores[MSSA_scores[shortage_area_col] == 1], x='SCORE', color='red', label='Shortage Area', kde=False, bins=bins)\n",
    "    sns.histplot(data=MSSA_scores[MSSA_scores[shortage_area_col] == 0], x='SCORE', color='blue', label='Not Shortage Area', kde=False, bins=bins, alpha=0.5)\n",
    "else:\n",
    "    print(f\"Column '{shortage_area_col}' not found in DataFrame\")\n",
    "\n",
    "# Add title and labels\n",
    "plt.title(\"MSSA Scores Histogram\")\n",
    "plt.xlabel(\"Score\")\n",
    "plt.ylabel(\"Frequency\")\n",
    "\n",
    "# Add legend\n",
    "plt.legend(title='Area Type')\n",
    "\n",
    "# Show plot\n",
    "plt.savefig('MSSA_scores_hist.jpg')\n",
    "plt.show()"
   ]
  },
  {
   "cell_type": "markdown",
   "id": "07ee8cda-cef5-48da-abde-c6e19b9c7aa0",
   "metadata": {},
   "source": [
    "#### CDF Plot"
   ]
  },
  {
   "cell_type": "code",
   "execution_count": 28,
   "id": "96ef1439-452b-4b9c-949c-9b449898945d",
   "metadata": {},
   "outputs": [
    {
     "data": {
      "text/plain": [
       "<Axes: xlabel='SCORE', ylabel='Proportion'>"
      ]
     },
     "execution_count": 28,
     "metadata": {},
     "output_type": "execute_result"
    },
    {
     "data": {
      "image/png": "[encoded data removed]",
      "text/plain": [
       "<Figure size 1000x600 with 1 Axes>"
      ]
     },
     "metadata": {},
     "output_type": "display_data"
    }
   ],
   "source": [
    "plt.figure(figsize=(10, 6))\n",
    "sns.set_theme(style=\"whitegrid\", palette=\"pastel\")\n",
    "sns.ecdfplot(MSSA_scores.SCORE)"
   ]
  },
  {
   "cell_type": "code",
   "execution_count": null,
   "id": "112e5dc3-fb1b-4b35-ae5e-f78effa800de",
   "metadata": {},
   "outputs": [],
   "source": []
  }
 ],
 "metadata": {
  "kernelspec": {
   "display_name": "Python 3 (ipykernel)",
   "language": "python",
   "name": "python3"
  },
  "language_info": {
   "codemirror_mode": {
    "name": "ipython",
    "version": 3
   },
   "file_extension": ".py",
   "mimetype": "text/x-python",
   "name": "python",
   "nbconvert_exporter": "python",
   "pygments_lexer": "ipython3",
   "version": "3.12.4"
  }
 },
 "nbformat": 4,
 "nbformat_minor": 5
}
